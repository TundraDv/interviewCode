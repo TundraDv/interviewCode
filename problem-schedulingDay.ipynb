{
 "cells": [
  {
   "cell_type": "code",
   "execution_count": null,
   "metadata": {},
   "outputs": [],
   "source": []
  },
  {
   "cell_type": "markdown",
   "metadata": {},
   "source": [
    "[Open PDF](problem-schedulingDay.pdf)\n",
    "\n",
    "Requrido:\n",
    "\n",
    "1. función:\n",
    "Conseguir un listado de días disponibles considerando:\n",
    "\n",
    "* Días Feriados y fines de semana\n",
    "* Días No trabajados ( lunes - viernes )\n",
    "* Días Colapsados ( lunes - viernes )\n",
    "\n",
    "2. función:\n",
    "Conseguir fecha de notificación.\n",
    "Fecha de notificación = fecha del retiro - días de peparación\n",
    "\n",
    "\n",
    "* Días requeridos para preparar pedidos"
   ]
  },
  {
   "cell_type": "code",
   "execution_count": 68,
   "metadata": {},
   "outputs": [],
   "source": [
    "import requests\n",
    "from datetime import datetime, timedelta"
   ]
  },
  {
   "cell_type": "code",
   "execution_count": 69,
   "metadata": {},
   "outputs": [],
   "source": [
    "api_url = \"https://date.nager.at/api/v3/publicholidays/2024/CL\"\n",
    "r = requests.get(api_url)\n",
    "data = r.json()\n",
    "holidays = {datetime.strptime(entry['date'], '%Y-%m-%d') for entry in data}\n",
    "# holidays"
   ]
  },
  {
   "cell_type": "code",
   "execution_count": 70,
   "metadata": {},
   "outputs": [],
   "source": [
    "collapsedDaysStr = [\"2024-05-23\",\"2024-05-24\",\"2024-05-31\"]\n",
    "collapsedDays = {datetime.strptime(element, '%Y-%m-%d') for element in collapsedDaysStr}\n",
    "# collapsedDays"
   ]
  },
  {
   "cell_type": "code",
   "execution_count": 81,
   "metadata": {},
   "outputs": [],
   "source": [
    "def availableDaysFromToday(daysFromToday):\n",
    "  today = datetime.today()\n",
    "  listDays = [today + timedelta(days=i) for i in range(daysFromToday)]\n",
    "  return listDays"
   ]
  },
  {
   "cell_type": "code",
   "execution_count": 72,
   "metadata": {},
   "outputs": [],
   "source": [
    "def filterDays(listTotalDays, setToFilter, nonWorkingdays):\n",
    "  filteredLists = [ element for element in listTotalDays if element not in setToFilter and element not in nonWorkingdays]\n",
    "  return filteredLists"
   ]
  },
  {
   "cell_type": "code",
   "execution_count": 80,
   "metadata": {},
   "outputs": [],
   "source": [
    "API_URL = \"https://date.nager.at/api/v3/publicholidays/2024/CL\"\n",
    "\n",
    "def listAvailableDays(collapsedDays = [\"2024-05-23\",\"2024-05-24\",\"2024-05-31\"], nonWorkingdays = [0, 1, 5, 6], daysFromToday = 30):\n",
    "  listTotalDays =  availableDaysFromToday(daysFromToday)\n",
    "  r = requests.get(API_URL)\n",
    "  data = r.json()\n",
    "  holidays = {datetime.strptime(entry['date'], '%Y-%m-%d') for entry in data}\n",
    "  collapsedDays = {datetime.strptime(element, '%Y-%m-%d') for element in collapsedDaysStr}\n",
    "  setToFilter = holidays | collapsedDays\n",
    "  finalList = filterDays(listTotalDays, setToFilter, nonWorkingdays)\n",
    "  # finalListStr = [element.strftime('%Y-%m-%d') for element in finalList]\n",
    "  return finalList"
   ]
  },
  {
   "cell_type": "code",
   "execution_count": 79,
   "metadata": {},
   "outputs": [],
   "source": [
    "listDays = listAvailableDays()\n",
    "# listDays"
   ]
  },
  {
   "cell_type": "code",
   "execution_count": 77,
   "metadata": {},
   "outputs": [],
   "source": [
    "def notificationDate(availableDays = listDays, preparationDays = 20):\n",
    "  return availableDays[preparationDays].strftime('%Y-%m-%d')\n"
   ]
  },
  {
   "cell_type": "code",
   "execution_count": 78,
   "metadata": {},
   "outputs": [
    {
     "data": {
      "text/plain": [
       "'2024-06-15'"
      ]
     },
     "execution_count": 78,
     "metadata": {},
     "output_type": "execute_result"
    }
   ],
   "source": [
    "notificationDate()"
   ]
  },
  {
   "cell_type": "markdown",
   "metadata": {},
   "source": [
    "Now with Class"
   ]
  },
  {
   "cell_type": "code",
   "execution_count": 99,
   "metadata": {},
   "outputs": [
    {
     "name": "stdout",
     "output_type": "stream",
     "text": [
      "Available Days: ['2024-05-22', '2024-05-23', '2024-05-24', '2024-05-29', '2024-05-30', '2024-05-31', '2024-06-05', '2024-06-06', '2024-06-07', '2024-06-12', '2024-06-13', '2024-06-14', '2024-06-19', '2024-06-20']\n",
      "Notification Day: 2024-05-24\n"
     ]
    }
   ],
   "source": []
  },
  {
   "cell_type": "code",
   "execution_count": null,
   "metadata": {},
   "outputs": [],
   "source": []
  },
  {
   "cell_type": "markdown",
   "metadata": {},
   "source": [
    "# Class answer"
   ]
  },
  {
   "cell_type": "code",
   "execution_count": 113,
   "metadata": {},
   "outputs": [
    {
     "name": "stdout",
     "output_type": "stream",
     "text": [
      "Available Days: ['2024-05-22', '2024-05-29', '2024-05-30', '2024-06-05', '2024-06-06', '2024-06-12', '2024-06-13', '2024-06-14', '2024-06-19']\n",
      "Notification Day: 2024-06-05\n"
     ]
    }
   ],
   "source": [
    "import requests\n",
    "from datetime import datetime, timedelta\n",
    "\n",
    "class schedulingDay:\n",
    "    def __init__(self, api_url, collapsedDaysStr, nonWorkingDays, daysFromToday, preparationDays):\n",
    "        self.api_url = api_url\n",
    "        self.availableDays = []\n",
    "        self.availableTotalDays = []\n",
    "        self.nonWorkingDays = nonWorkingDays\n",
    "        self.daysFromToday = daysFromToday\n",
    "        self.preparationDays = preparationDays\n",
    "        self.holidays = set()\n",
    "        self.collapsedDays = {datetime.strptime(element, '%Y-%m-%d').date() for element in collapsedDaysStr}\n",
    "    \n",
    "    def fetch_data(self):\n",
    "        response = requests.get(self.api_url)\n",
    "        response.raise_for_status()\n",
    "        self.holidays = {datetime.strptime(entry['date'], '%Y-%m-%d').date() for entry in response.json()}\n",
    "    \n",
    "    def availableDaysFromToday(self):\n",
    "        today = datetime.today().date()\n",
    "        self.availableTotalDays = [today + timedelta(days=i) for i in range(self.daysFromToday)]\n",
    "    \n",
    "    def filterDays(self, setToFilter):\n",
    "        self.availableDays = [element for element in self.availableTotalDays \n",
    "                              if element not in setToFilter and element.weekday() not in self.nonWorkingDays]\n",
    "\n",
    "    def notificationDate(self):\n",
    "        now = datetime.now() # current time\n",
    "        one_pm = now.replace(hour=13, minute=0, second=0, microsecond=0) #1 pm\n",
    "        if now > one_pm:\n",
    "            self.preparationDays +=1\n",
    "        if len(self.availableDays) > self.preparationDays:\n",
    "            return self.availableDays[self.preparationDays]\n",
    "        return None\n",
    "    \n",
    "    def listAvailableDays(self):\n",
    "        self.fetch_data()\n",
    "        self.availableDaysFromToday()\n",
    "        setToFilter = self.holidays | self.collapsedDays\n",
    "        self.filterDays(setToFilter)\n",
    "        notificationDay = self.notificationDate()\n",
    "        return self.availableDays, notificationDay\n",
    "\n",
    "# Usage\n",
    "api_url = \"https://date.nager.at/api/v3/publicholidays/2024/CL\"\n",
    "collapsedDays = [\"2024-05-23\", \"2024-05-24\", \"2024-05-31\"]\n",
    "nonWorkingDays = [0, 1, 5, 6]  # Monday, Tuesday, Saturday, Sunday\n",
    "daysFromToday = 30\n",
    "preparationDays = 2\n",
    "\n",
    "# Create an instance of schedulingDay\n",
    "schedulingDay_api = schedulingDay(api_url, collapsedDays, nonWorkingDays, daysFromToday, preparationDays)\n",
    "\n",
    "# Get the available days and the notification day\n",
    "available_days, notification_day = schedulingDay_api.listAvailableDays()\n",
    "\n",
    "# Print the results\n",
    "print(f\"Available Days: {[day.strftime('%Y-%m-%d') for day in available_days]}\")\n",
    "print(f\"Notification Day: {notification_day.strftime('%Y-%m-%d')}\")"
   ]
  },
  {
   "cell_type": "code",
   "execution_count": null,
   "metadata": {},
   "outputs": [],
   "source": []
  }
 ],
 "metadata": {
  "kernelspec": {
   "display_name": "Python 3",
   "language": "python",
   "name": "python3"
  },
  "language_info": {
   "codemirror_mode": {
    "name": "ipython",
    "version": 3
   },
   "file_extension": ".py",
   "mimetype": "text/x-python",
   "name": "python",
   "nbconvert_exporter": "python",
   "pygments_lexer": "ipython3",
   "version": "3.11.1"
  }
 },
 "nbformat": 4,
 "nbformat_minor": 2
}
